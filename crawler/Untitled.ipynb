{
 "cells": [
  {
   "cell_type": "code",
   "execution_count": 27,
   "metadata": {},
   "outputs": [],
   "source": [
    "import re\n",
    "import requests\n",
    "from bs4 import BeautifulSoup\n",
    "\n",
    "headers = {'User-Agent': 'Mozilla/5.0 (Macintosh; Intel Mac OS X 10_12_3) AppleWebKit/537.36 (KHTML, like Gecko) Chrome/56.0.2924.87 Safari/537.36'}\n",
    "base_url = 'https://web.stanford.edu/class/archive/cs/cs106a/cs106a.1194/schedule.html'\n",
    "\n",
    "res = requests.get(base_url, headers=headers)\n",
    "soup = BeautifulSoup(res.text, 'html.parser')\n",
    "tds = soup.findAll('td', {\"class\": \"calendarCell\"})\n"
   ]
  },
  {
   "cell_type": "code",
   "execution_count": null,
   "metadata": {},
   "outputs": [],
   "source": [
    "# cs106a\n",
    "for td in tds:\n",
    "    sec = td.find(text=re.compile(r'\\d+:'))\n",
    "    if sec:\n",
    "        sec_title = sec.strip().replace(':', '.', 1)\n",
    "        slide = td.find('a', href=re.compile(r'.*pdf'))\n",
    "        code = td.find('a', href=re.compile(r'.*zip'))\n",
    "        row = sec_title\n",
    "        if slide:\n",
    "            row += ' [slide](https:' + slide['href'] + ')'\n",
    "        if code:\n",
    "            row += ' [code](https:' + code['href'] + ')'\n",
    "        print(row)\n"
   ]
  },
  {
   "cell_type": "code",
   "execution_count": 34,
   "metadata": {},
   "outputs": [
    {
     "name": "stdout",
     "output_type": "stream",
     "text": [
      "1. [Welcome!](http://web.stanford.edu/class/cs106b/lectures/welcome/)\n",
      "2. [C++](http://web.stanford.edu/class/cs106b/lectures/c++/)\n",
      "3. [Strings](http://web.stanford.edu/class/cs106b/lectures/strings/)\n",
      "4. [Vectors and Grids](http://web.stanford.edu/class/cs106b/lectures/vectors-grids/)\n",
      "5. [Stacks and Queues](http://web.stanford.edu/class/cs106b/lectures/stacks-queues/)\n",
      "6. [Sets and Maps](http://web.stanford.edu/class/cs106b/lectures/sets-maps/)\n",
      "7. [Big O and Asymptotic Analysis](http://web.stanford.edu/class/cs106b/lectures/big-o/)\n",
      "8. [Introduction to Recursion](http://web.stanford.edu/class/cs106b/lectures/intro-to-recursion/)\n",
      "9. [Fractals](http://web.stanford.edu/class/cs106b/lectures/fractals/)\n",
      "10. [Procedural Recursion](http://web.stanford.edu/class/cs106b/lectures/procedural-recursion/)\n",
      "11. [Backtracking 1](http://web.stanford.edu/class/cs106b/lectures/backtracking1/)\n",
      "12. [Backtracking 2](http://web.stanford.edu/class/cs106b/lectures/backtracking2/)\n",
      "13. [C++ Classes](http://web.stanford.edu/class/cs106b/lectures/c++-classes/)\n",
      "14. [Dynamic Memory](http://web.stanford.edu/class/cs106b/lectures/dynamic-memory/)\n",
      "15. [Memory and Pointers](http://web.stanford.edu/class/cs106b/lectures/pointers/)\n",
      "16. [Implementing VectorInt](http://web.stanford.edu/class/cs106b/lectures/implementing-vector/)\n",
      "17. [Heaps](http://web.stanford.edu/class/cs106b/lectures/heaps/)\n",
      "18. [Sorting](http://web.stanford.edu/class/cs106b/lectures/sorting/)\n",
      "19. [Linked Lists 1](http://web.stanford.edu/class/cs106b/lectures/linked-lists1/)\n",
      "20. [Linked Lists 2](http://web.stanford.edu/class/cs106b/lectures/linked-lists2/)\n",
      "21. [Trees](http://web.stanford.edu/class/cs106b/lectures/trees/)\n",
      "22. [Binary Search Trees](http://web.stanford.edu/class/cs106b/lectures/binary-search-trees/)\n",
      "23. [Huffman Coding](http://web.stanford.edu/class/cs106b/lectures/huffman-coding/)\n"
     ]
    }
   ],
   "source": [
    "#cs106b\n",
    "base_url = 'http://web.stanford.edu/class/cs106b/schedule'\n",
    "\n",
    "res = requests.get(base_url, headers=headers)\n",
    "soup = BeautifulSoup(res.text, 'html.parser')\n",
    "ps = soup.findAll('p', class_='subtleHeading')\n",
    "\n",
    "i = 1\n",
    "\n",
    "for p in ps:\n",
    "    a = p.parent.a\n",
    "    if a:\n",
    "        link = 'http://web.stanford.edu' + a['href']\n",
    "        title = a.text\n",
    "        print(str(i) + '. [' + title + '](' + link + ')')\n",
    "        i += 1"
   ]
  },
  {
   "cell_type": "code",
   "execution_count": 51,
   "metadata": {},
   "outputs": [
    {
     "name": "stdout",
     "output_type": "stream",
     "text": [
      "[Assign0:WelcometoCS106B!](http://web.stanford.edu/class/cs106b/assignments/assign0/)\n",
      "[Assign1:GettingYourC++Legs](http://web.stanford.edu/class/cs106b/assignments/assign1/)\n",
      "[Assign2:FunwithCollections](http://web.stanford.edu/class/cs106b/assignments/assign2/)\n",
      "[Assign3:Recursion](http://web.stanford.edu/class/cs106b/assignments/assign3/)\n",
      "[Assign4:Backtracking](http://web.stanford.edu/class/cs106b/assignments/assign4/)\n",
      "[Assign5:PriorityQueue](http://web.stanford.edu/class/cs106b/assignments/assign5/)\n",
      "[Assign6:LinkedLists](http://web.stanford.edu/class/cs106b/assignments/assign6/)\n",
      "[Assign7:Huffman(optional)](http://web.stanford.edu/class/cs106b/assignments/assign7/)\n"
     ]
    }
   ],
   "source": [
    "assigns = soup.findAll('a', href=re.compile(r'assign\\d/$'), limit=8)\n",
    "for assign in assigns:\n",
    "    link = 'http://web.stanford.edu' + assign['href']\n",
    "    title = assign.text\n",
    "    title = re.sub(r\"\\s\", \"\", title)\n",
    "    print('[' + title + '](' + link + ')')"
   ]
  },
  {
   "cell_type": "code",
   "execution_count": 78,
   "metadata": {},
   "outputs": [
    {
     "name": "stdout",
     "output_type": "stream",
     "text": [
      "0. History and Philosophy of C++ [slide](https://web.stanford.edu/class/archive/cs/cs106l/cs106l.1184/lectures/lecture00/00_Introduction.pdf) [code](https://web.stanford.edu/class/archive/cs/cs106l/cs106l.1184/lectures/lecture00/00_HelloWorld.zip)\n",
      "1. Streams I [slide](https://web.stanford.edu/class/archive/cs/cs106l/cs106l.1184/lectures/lecture01/01_Streams.pdf) [code](https://web.stanford.edu/class/archive/cs/cs106l/cs106l.1184/lectures/lecture01/01_Streams.zip)\n",
      "2. Streams II [slide](https://web.stanford.edu/class/archive/cs/cs106l/cs106l.1184/lectures/lecture02/02_Streams_II.pdf) [code](https://web.stanford.edu/class/archive/cs/cs106l/cs106l.1184/lectures/lecture02/02_Streams_II.zip)\n",
      "3. Sequence Containers [slide](https://web.stanford.edu/class/archive/cs/cs106l/cs106l.1184/lectures/lecture03/03_Sequence_Containers.pdf) [code](https://web.stanford.edu/class/archive/cs/cs106l/cs106l.1184/lectures/lecture03/03_Sequence_Containers.zip)\n",
      "4. Associative Containers and Iterators [slide](https://web.stanford.edu/class/archive/cs/cs106l/cs106l.1184/lectures/lecture04/04_Associative_Containers.pdf) [code](https://web.stanford.edu/class/archive/cs/cs106l/cs106l.1184/lectures/lecture04/04_Associative_Containers.zip)\n",
      "5. Advanced Associative Containers [slide](https://web.stanford.edu/class/archive/cs/cs106l/cs106l.1184/lectures/lecture05/05_Adv_Assoc_Containers.pdf) [code](https://web.stanford.edu/class/archive/cs/cs106l/cs106l.1184/lectures/lecture05/05_Adv_Assoc_Containers.zip)\n",
      "6. Templates [slide](https://web.stanford.edu/class/archive/cs/cs106l/cs106l.1184/lectures/lecture06/06_Templates_and_Iterators.pdf) [code](https://web.stanford.edu/class/archive/cs/cs106l/cs106l.1184/lectures/lecture06/06_Templates_and_Iterators.zip)\n",
      "7. Algorithms [slide](https://web.stanford.edu/class/archive/cs/cs106l/cs106l.1184/lectures/lecture07/07_Algorithms.pdf) [code](https://web.stanford.edu/class/archive/cs/cs106l/cs106l.1184/lectures/lecture07/07_Algorithms.zip)\n",
      "8. Stylometry [slide](https://web.stanford.edu/class/archive/cs/cs106l/cs106l.1184/lectures/lecture08/08_Stylometry.pdf) [code](https://web.stanford.edu/class/archive/cs/cs106l/cs106l.1184/lectures/lecture08/08_Stylometry.zip)\n",
      "9. Classes [slide](https://web.stanford.edu/class/archive/cs/cs106l/cs106l.1184/lectures/lecture09/09_Classes.pdf) [code](https://web.stanford.edu/class/archive/cs/cs106l/cs106l.1184/lectures/lecture09/09_Classes.zip)\n",
      "10. Functions [slide](https://web.stanford.edu/class/archive/cs/cs106l/cs106l.1184/lectures/lecture10/10_Functions.pdf) [code](https://web.stanford.edu/class/archive/cs/cs106l/cs106l.1184/lectures/lecture10/10_Functions.zip)\n",
      "11. ParticleSimulator [slide](https://web.stanford.edu/class/archive/cs/cs106l/cs106l.1184/lectures/lecture11/11_ParticleSimulator.pdf) [code](https://web.stanford.edu/class/archive/cs/cs106l/cs106l.1184/lectures/lecture11/11_ParticleSimulator.zip)\n",
      "12. Templatised Classes [slide](https://web.stanford.edu/class/archive/cs/cs106l/cs106l.1184/lectures/lecture12/12_Templatised_Classes.pdf) [code](https://web.stanford.edu/class/archive/cs/cs106l/cs106l.1184/lectures/lecture12/12_Templatised_Classes.zip)\n",
      "13. Const Correctness [slide](https://web.stanford.edu/class/archive/cs/cs106l/cs106l.1184/lectures/lecture13/13_Const.pdf)\n",
      "14. Constructors and Assignment [slide](https://web.stanford.edu/class/archive/cs/cs106l/cs106l.1184/lectures/lecture14/14_Constructors_and_Assignment.pdf) [code](https://web.stanford.edu/class/archive/cs/cs106l/cs106l.1184/lectures/lecture14/14_Constructors_and_Assignment.zip)\n",
      "15. RAII [slide](https://web.stanford.edu/class/archive/cs/cs106l/cs106l.1184/lectures/lecture15/15_RAII.pdf) [code](https://web.stanford.edu/class/archive/cs/cs106l/cs106l.1184/lectures/lecture15/15_RAII.zip)\n",
      "16. Final Topics [slide](https://web.stanford.edu/class/archive/cs/cs106l/cs106l.1184/lectures/lecture16/16_Final_Topics.pdf) [code](https://web.stanford.edu/class/archive/cs/cs106l/cs106l.1184/lectures/lecture16/16_Final_Topics.zip)\n"
     ]
    }
   ],
   "source": [
    "#cs106l\n",
    "base_url = 'https://web.stanford.edu/class/archive/cs/cs106l/cs106l.1184/lectures.html'\n",
    "\n",
    "res = requests.get(base_url, headers=headers)\n",
    "soup = BeautifulSoup(res.text, 'html.parser')\n",
    "slides = soup.findAll('a', href=re.compile(r'^lectures.*.pdf$'))\n",
    "\n",
    "pre = 'https://web.stanford.edu/class/archive/cs/cs106l/cs106l.1184/'\n",
    "i = 0\n",
    "\n",
    "for slide in slides:\n",
    "    tr = slide.parent.parent\n",
    "    lecture = tr.find('td').a\n",
    "    if lecture:\n",
    "        title = lecture.text.strip()\n",
    "        link = pre + lecture['href']\n",
    "        code = tr.findAll('td')[2].a\n",
    "        if code:\n",
    "            code = pre + code['href']\n",
    "            print(str(i) + '. ' + title + ' [slide](' + link + ')' + ' [code](' + code + ')')\n",
    "        else:\n",
    "            print(str(i) + '. ' + title + ' [slide](' + link + ')')\n",
    "        i += 1\n",
    "            \n",
    "                      "
   ]
  },
  {
   "cell_type": "code",
   "execution_count": 123,
   "metadata": {},
   "outputs": [
    {
     "name": "stdout",
     "output_type": "stream",
     "text": [
      "Overview (<a href=\"lectures/01-overview.pptx\">pptx</a> , <a href=\"lectures/01-overview.pdf\">pdf</a> , <a href=\"code/01-overview\">code</a> , <a href=\"https://scs.hosted.panopto.com/Panopto/Pages/Viewer.aspx?id=4a588de5-fb14-4284-a81c-aab60120bbee\">video</a>)\n",
      "Bits, Bytes, & Integers I (<a href=\"lectures/02-bits-ints-part1.pptx\">pptx</a> , <a href=\"lectures/02-bits-ints-part1.pdf\">pdf</a> , <a href=\"code/02-03-bits-ints\">code</a> , <a href=\"https://scs.hosted.panopto.com/Panopto/Pages/Viewer.aspx?id=b1b54f5a-45ac-424b-b761-aab801203bd4\">video</a>)\n",
      "Bits, Bytes, & Integers II (<a href=\"lectures/03-bits-ints-part2.pptx\">pptx</a> , <a href=\"lectures/03-bits-ints-part2.pdf\">pdf</a> , <a href=\"code/02-03-bits-ints\">code</a> , <a href=\"https://scs.hosted.panopto.com/Panopto/Pages/Viewer.aspx?id=dba47943-51a2-497a-ba01-aabd0120b024\">video</a>)\n",
      "Floating Point (<a href=\"lectures/04-float.pptx\">pptx</a> , <a href=\"lectures/04-float.pdf\">pdf</a> , <a href=\"https://scs.hosted.panopto.com/Panopto/Pages/Viewer.aspx?id=e100594a-1f4b-4739-89b6-aabf011f0e2c\">video</a>)\n",
      "Machine Prog: Basics (<a href=\"lectures/05-machine-basics.pptx\">pptx</a> , <a href=\"lectures/05-machine-basics.pdf\">pdf</a> , <a href=\"code/05-machine-basics\">code</a> , <a href=\"https://scs.hosted.panopto.com/Panopto/Pages/Viewer.aspx?id=5ff29d8d-be16-4485-9f9c-aac4011fd492\">video</a>)\n",
      "Machine Prog: Control (<a href=\"lectures/06-machine-control.pptx\">pptx</a> , <a href=\"lectures/06-machine-control.pdf\">pdf</a> , <a href=\"https://scs.hosted.panopto.com/Panopto/Pages/Viewer.aspx?id=f353aeb8-f968-41e9-9436-aac601200a17\">video</a>)\n",
      "Machine Prog: Procedures (<a href=\"lectures/07-machine-procedures.pptx\">pptx</a> , <a href=\"lectures/07-machine-procedures.pdf\">pdf</a> , <a href=\"code/07-machine-procedures\">code</a> , <a href=\"https://scs.hosted.panopto.com/Panopto/Pages/Viewer.aspx?id=4d403685-5299-47f6-b70e-aacb01200eef\">video</a>)\n",
      "Machine Prog: Data (<a href=\"lectures/08-machine-data.pptx\">pptx</a> , <a href=\"lectures/08-machine-data.pdf\">pdf</a> , <a href=\"code/08-machine-data\">code</a> , <a href=\"https://scs.hosted.panopto.com/Panopto/Pages/Viewer.aspx?id=25aa5f16-2fb7-4ee4-98a2-aacd013f5ae5\">video</a>)\n",
      "Machine Prog: Advanced  (<a href=\"lectures/09-machine-advanced.pptx\">pptx</a> , <a href=\"lectures/09-machine-advanced.pdf\">pdf</a> , <a href=\"code/09-machine-advanced\">code</a> , <a href=\"https://scs.hosted.panopto.com/Panopto/Pages/Viewer.aspx?id=5cbd86a2-5e73-46b6-9a75-aad2012018e9\">video</a>)\n",
      "The Memory Hierarchy (<a href=\"lectures/10-memory-hierarchy.pptx\">pptx</a> , <a href=\"lectures/10-memory-hierarchy.pdf\">pdf</a> , <a href=\"https://scs.hosted.panopto.com/Panopto/Pages/Viewer.aspx?id=88e6d619-0763-4a4d-830b-aad4012092f2\">video</a>)\n",
      "Cache Memories (<a href=\"lectures/11-cache-memories.pptx\">pptx</a> , <a href=\"lectures/11-cache-memories.pdf\">pdf</a> , <a href=\"https://scs.hosted.panopto.com/Panopto/Pages/Viewer.aspx?id=503b96d6-5da8-44d6-9bd2-aad901200487\">video</a>)\n",
      "Design and Debugging (<a href=\"lectures/12-design-debugging.pptx\">pptx</a> , <a href=\"lectures/12-design-debugging.pdf\">pdf</a> , <a href=\"https://scs.hosted.panopto.com/Panopto/Pages/Viewer.aspx?id=05c0c39e-1fa7-4fb9-a189-aadb011fdfff\">video</a>)\n",
      "Code Optimization    (<a href=\"lectures/13-optimization.pptx\">pptx</a> , <a href=\"lectures/13-optimization.pdf\">pdf</a> , <a href=\"https://scs.hosted.panopto.com/Panopto/Pages/Viewer.aspx?id=2e7aaf19-315c-41b9-976f-aae0011fa4df\">video</a>)\n",
      "Linking (<a href=\"lectures/14-linking.pptx\">pptx</a> , <a href=\"lectures/14-linking.pdf\">pdf</a> , <a href=\"https://scs.hosted.panopto.com/Panopto/Pages/Viewer.aspx?id=9f4ad8e8-aadd-4f1c-8f0c-aae2011fc8bd\">video</a> , <a href=\"code/14-linking\">code</a>)\n",
      "<b>Exam Review</b> 7-9pm in Rashid Auditorium (<a href=\"activities/midterm-review-f19.pdf\">pdf</a> , <a href=\"activities/midterm-review-f19.pptx\">pptx</a>)\n",
      "Dynamic Memory Allocation: Basic (<a href=\"lectures/15-malloc-basic.pptx\">pptx</a> , <a href=\"lectures/15-malloc-basic.pdf\">pdf</a> , <a href=\"code/15-malloc-basic\">code</a> , <a href=\"https://scs.hosted.panopto.com/Panopto/Pages/Viewer.aspx?id=4374f5b8-88ef-49e6-812a-aae7012063fd\">video</a>)\n",
      "Dynamic Memory Allocation: Advanced (<a href=\"lectures/16-malloc-advanced.pptx\">pptx</a> , <a href=\"lectures/16-malloc-advanced.pdf\">pdf</a> , <a href=\"https://scs.hosted.panopto.com/Panopto/Pages/Viewer.aspx?id=0f14a216-8302-4a2e-af57-aae9011ff2d8\">video</a>)\n",
      "Virtual Memory: Concepts   (<a href=\"lectures/17-vm-concepts.pptx\">pptx</a> , <a href=\"lectures/17-vm-concepts.pdf\">pdf</a> , <a href=\"https://scs.hosted.panopto.com/Panopto/Pages/Viewer.aspx?id=be67fab6-58ae-4ca3-b44b-aaee011fdff1\">video</a>)\n",
      "Virtual Memory: Systems (<a href=\"lectures/18-vm-systems.pptx\">pptx</a> , <a href=\"lectures/18-vm-systems.pdf\">pdf</a> , <a href=\"https://scs.hosted.panopto.com/Panopto/Pages/Viewer.aspx?id=d363858d-2916-4db9-b9d1-aaf00120afcd\">video</a>)\n",
      "<b>Malloc Bootcamp</b> 7-9pm in Rashid Auditorium (<a href=\"activities/mallocbootcamp-f19.pdf\">pdf</a> , <a href=\"activities/mallocbootcamp-f19.pptx\">pptx</a>)\n",
      "ECF: Exceptions & Processes (<a href=\"lectures/19-ecf-procs.pptx\">pptx</a> , <a href=\"lectures/19-ecf-procs.pdf\">pdf</a> , <a href=\"https://scs.hosted.panopto.com/Panopto/Pages/Viewer.aspx?id=50912d94-81ac-458b-8545-aaf5011fea0c\">video</a> , <a href=\"code/19-ecf-procs\">code</a>)\n",
      "ECF: Signals & Nonlocal Jumps (<a href=\"lectures/20-ecf-sigs.pptx\">pptx</a> , <a href=\"lectures/20-ecf-sigs.pdf\">pdf</a> , <a href=\"https://scs.hosted.panopto.com/Panopto/Pages/Viewer.aspx?id=bf585e7f-546d-4e28-8d48-aaf701208ba4\">video</a>)\n",
      "System Level I/O  (<a href=\"lectures/21-io.pptx\">pptx</a> , <a href=\"lectures/21-io.pdf\">pdf</a> , <a href=\"code/21-io\">code</a> , <a href=\"https://scs.hosted.panopto.com/Panopto/Pages/Viewer.aspx?id=d41a5bb3-8ee4-46c6-8779-aafc0130d3c9\">video</a>)\n",
      "Network Programming (Part I)  (<a href=\"lectures/22-netprog1.pptx\">pptx</a> , <a href=\"lectures/22-netprog1.pdf\">pdf</a> , <a href=\"https://scs.hosted.panopto.com/Panopto/Pages/Viewer.aspx?id=b0572189-3037-430d-b3ce-aafe0130a8bb\">video</a> , <a href=\"code/22-netprog1\">code</a>)\n",
      "Network Programming (Part II) (<a href=\"lectures/23-netprog2.pptx\">pptx</a> , <a href=\"lectures/23-netprog2.pdf\">pdf</a> , <a href=\"https://scs.hosted.panopto.com/Panopto/Pages/Viewer.aspx?id=41f6f031-fb86-4af6-aa1e-ab030130224c\">video</a> , <a href=\"code/23-netprog2\">code</a>)\n",
      "Concurrent programming (<a href=\"lectures/24-concprog.pptx\">pptx</a> , <a href=\"lectures/24-concprog.pdf\">pdf</a> , <a href=\"https://scs.hosted.panopto.com/Panopto/Pages/Viewer.aspx?id=f5e858a8-a7ee-44eb-a009-ab05013094fe\">video</a>)\n",
      "Synchronization: Basic (<a href=\"lectures/25-sync-basic.pptx\">pptx</a> , <a href=\"lectures/25-sync-basic.pdf\">pdf</a> , <a href=\"https://scs.hosted.panopto.com/Panopto/Pages/Viewer.aspx?id=3f3093ea-8ce1-41af-9adc-ab0a01308527\">video</a> , <a href=\"code/25-sync-basic\">code</a>)\n",
      "Synchronization: Advanced (<a href=\"lectures/26-sync-advanced.pptx\">pptx</a> , <a href=\"lectures/26-sync-advanced.pdf\">pdf</a> , <a href=\"https://scs.hosted.panopto.com/Panopto/Pages/Viewer.aspx?id=a71567bc-4f3e-4603-b65c-ab0c0130d3a5\">video</a> , <a href=\"code/26-sync-advanced\">code</a>)\n",
      "<bf>No lecture--Thanksgiving</bf> \n",
      "<bf>No lecture--Thanksgiving</bf> \n",
      "Thread-Level Parallelism (<a href=\"lectures/27-parallelism.pptx\">pptx</a> , <a href=\"lectures/27-parallelism.pdf\">pdf</a> , <a href=\"https://scs.hosted.panopto.com/Panopto/Pages/Viewer.aspx?id=390937ad-bf8e-4739-9a2c-ab180130885f\">video</a>)\n",
      "Future of Computing  (<a href=\"lectures/28-mcguffey.pdf\">mcguffey-pdf</a> , <a href=\"lectures/28-jiang.pdf\">jiang-pdf</a> , <a href=\"lectures/28-denby.pdf\">denby-pdf</a> , <a href=\"lectures/28-ruppel.pdf\">ruppel-pdf</a> , <a href=\"https://scs.hosted.panopto.com/Panopto/Pages/Viewer.aspx?id=40af1df6-5752-40d7-95af-ab1a01320e8e\">video</a>)\n",
      "<b>Final Review</b> (<a href=\"activities/finalreview.pdf\">pdf</a> , <a href=\"activities/finalreview.pptx\">pptx</a>)\n",
      "Final exam this week as scheduled by the University \n"
     ]
    }
   ],
   "source": [
    "# 15213\n",
    "base_url = 'https://www.cs.cmu.edu/afs/cs/academic/class/15213-f19/www/schedule.html'\n",
    "\n",
    "res = requests.get(base_url, headers=headers)\n",
    "soup = BeautifulSoup(res.text, 'html.parser')\n",
    "trs = soup.findAll('tr')\n",
    "\n",
    "for tr in trs:  \n",
    "    if (len(tr.findAll('td', {\"class\": \"recbody\"})) == 7):\n",
    "        contents = tr.findAll('td')[3].contents\n",
    "        line = \"\"\n",
    "        for content in contents:\n",
    "            line += str(content)\n",
    "        print(line)"
   ]
  },
  {
   "cell_type": "code",
   "execution_count": null,
   "metadata": {},
   "outputs": [],
   "source": []
  }
 ],
 "metadata": {
  "kernelspec": {
   "display_name": "Python 3",
   "language": "python",
   "name": "python3"
  },
  "language_info": {
   "codemirror_mode": {
    "name": "ipython",
    "version": 3
   },
   "file_extension": ".py",
   "mimetype": "text/x-python",
   "name": "python",
   "nbconvert_exporter": "python",
   "pygments_lexer": "ipython3",
   "version": "3.6.3"
  }
 },
 "nbformat": 4,
 "nbformat_minor": 2
}
