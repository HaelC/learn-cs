{
 "cells": [
  {
   "cell_type": "code",
   "execution_count": 4,
   "metadata": {},
   "outputs": [
    {
     "ename": "TypeError",
     "evalue": "argument of type '_sre.SRE_Pattern' is not iterable",
     "output_type": "error",
     "traceback": [
      "\u001b[0;31m---------------------------------------------------------------------------\u001b[0m",
      "\u001b[0;31mTypeError\u001b[0m                                 Traceback (most recent call last)",
      "\u001b[0;32m<ipython-input-4-1211f47c393a>\u001b[0m in \u001b[0;36m<module>\u001b[0;34m()\u001b[0m\n\u001b[1;32m     11\u001b[0m \u001b[0;34m\u001b[0m\u001b[0m\n\u001b[1;32m     12\u001b[0m \u001b[0;32mfor\u001b[0m \u001b[0mtd\u001b[0m \u001b[0;32min\u001b[0m \u001b[0mtds\u001b[0m\u001b[0;34m:\u001b[0m\u001b[0;34m\u001b[0m\u001b[0m\n\u001b[0;32m---> 13\u001b[0;31m     \u001b[0mprint\u001b[0m\u001b[0;34m(\u001b[0m\u001b[0mtd\u001b[0m\u001b[0;34m.\u001b[0m\u001b[0mselect\u001b[0m\u001b[0;34m(\u001b[0m\u001b[0mre\u001b[0m\u001b[0;34m.\u001b[0m\u001b[0mcompile\u001b[0m\u001b[0;34m(\u001b[0m\u001b[0;34mr'\" \\d+: \"'\u001b[0m\u001b[0;34m)\u001b[0m\u001b[0;34m)\u001b[0m\u001b[0;34m)\u001b[0m\u001b[0;34m\u001b[0m\u001b[0m\n\u001b[0m",
      "\u001b[0;32m/anaconda3/lib/python3.6/site-packages/bs4/element.py\u001b[0m in \u001b[0;36mselect\u001b[0;34m(self, selector, _candidate_generator, limit)\u001b[0m\n\u001b[1;32m   1347\u001b[0m \u001b[0;34m\u001b[0m\u001b[0m\n\u001b[1;32m   1348\u001b[0m         \u001b[0;31m# Handle grouping selectors if ',' exists, ie: p,a\u001b[0m\u001b[0;34m\u001b[0m\u001b[0;34m\u001b[0m\u001b[0m\n\u001b[0;32m-> 1349\u001b[0;31m         \u001b[0;32mif\u001b[0m \u001b[0;34m','\u001b[0m \u001b[0;32min\u001b[0m \u001b[0mselector\u001b[0m\u001b[0;34m:\u001b[0m\u001b[0;34m\u001b[0m\u001b[0m\n\u001b[0m\u001b[1;32m   1350\u001b[0m             \u001b[0mcontext\u001b[0m \u001b[0;34m=\u001b[0m \u001b[0;34m[\u001b[0m\u001b[0;34m]\u001b[0m\u001b[0;34m\u001b[0m\u001b[0m\n\u001b[1;32m   1351\u001b[0m             \u001b[0;32mfor\u001b[0m \u001b[0mpartial_selector\u001b[0m \u001b[0;32min\u001b[0m \u001b[0mselector\u001b[0m\u001b[0;34m.\u001b[0m\u001b[0msplit\u001b[0m\u001b[0;34m(\u001b[0m\u001b[0;34m','\u001b[0m\u001b[0;34m)\u001b[0m\u001b[0;34m:\u001b[0m\u001b[0;34m\u001b[0m\u001b[0m\n",
      "\u001b[0;31mTypeError\u001b[0m: argument of type '_sre.SRE_Pattern' is not iterable"
     ]
    }
   ],
   "source": [
    "import re\n",
    "import requests\n",
    "from bs4 import BeautifulSoup\n",
    "\n",
    "headers = {'User-Agent': 'Mozilla/5.0 (Macintosh; Intel Mac OS X 10_12_3) AppleWebKit/537.36 (KHTML, like Gecko) Chrome/56.0.2924.87 Safari/537.36'}\n",
    "base_url = 'https://web.stanford.edu/class/archive/cs/cs106a/cs106a.1194/schedule.html'\n",
    "\n",
    "res = requests.get(base_url, headers=headers)\n",
    "soup = BeautifulSoup(res.text, 'html.parser')\n",
    "tds = soup.findAll('td', {\"class\": \"calendarCell\"})\n"
   ]
  },
  {
   "cell_type": "code",
   "execution_count": 26,
   "metadata": {},
   "outputs": [
    {
     "name": "stdout",
     "output_type": "stream",
     "text": [
      "1. Welcome to CS106A! [slide](https://web.stanford.edu/class/archive/cs/cs106a/cs106a.1194/lectures/1-Welcome/1-Welcome.pdf) [code](https://web.stanford.edu/class/archive/cs/cs106a/cs106a.1194/lectures/1-Welcome/Lecture1.zip)\n",
      "2. Control Flow [slide](https://web.stanford.edu/class/archive/cs/cs106a/cs106a.1194/lectures/2-ControlFlow/2-ControlFlow.pdf) [code](https://web.stanford.edu/class/archive/cs/cs106a/cs106a.1194/lectures/2-ControlFlow/MeetKarel.zip)\n",
      "3. Decomposition [slide](https://web.stanford.edu/class/archive/cs/cs106a/cs106a.1194/lectures/3-Decomposition/3-Decomposition.pdf) [code](https://web.stanford.edu/class/archive/cs/cs106a/cs106a.1194/lectures/3-Decomposition/Lecture3.zip)\n",
      "4. Intro to Java [slide](https://web.stanford.edu/class/archive/cs/cs106a/cs106a.1194/lectures/4-Variables/4-Variables.pdf) [code](https://web.stanford.edu/class/archive/cs/cs106a/cs106a.1194/lectures/4-Variables/Lecture4.zip)\n",
      "5. Control Flow Revisited [slide](https://web.stanford.edu/class/archive/cs/cs106a/cs106a.1194/lectures/5-ControlFlowRevisited/5-ControlFlowRevisited.pdf) [code](https://web.stanford.edu/class/archive/cs/cs106a/cs106a.1194/lectures/5-ControlFlowRevisited/Lecture5.zip)\n",
      "6. Graphics + Loops [slide](https://web.stanford.edu/class/archive/cs/cs106a/cs106a.1194/lectures/6-NestedLoops/6-NestedLoops.pdf) [code](https://web.stanford.edu/class/archive/cs/cs106a/cs106a.1194/lectures/6-NestedLoops/Lecture6.zip)\n",
      "7. Methods Revisited [slide](https://web.stanford.edu/class/archive/cs/cs106a/cs106a.1194/lectures/7-Methods/7-Methods.pdf) [code](https://web.stanford.edu/class/archive/cs/cs106a/cs106a.1194/lectures/7-Methods/Lecture7.zip)\n",
      "8. Tracing Programs [slide](https://web.stanford.edu/class/archive/cs/cs106a/cs106a.1194/lectures/8-Tracing/8-Tracing.pdf) [code](https://web.stanford.edu/class/archive/cs/cs106a/cs106a.1194/lectures/8-Tracing/Lecture8.zip)\n",
      "9. Animation [slide](https://web.stanford.edu/class/archive/cs/cs106a/cs106a.1194/lectures/9-Animation/9-Animation.pdf) [code](https://web.stanford.edu/class/archive/cs/cs106a/cs106a.1194/lectures/9-Animation/Lecture9.zip)\n",
      "10. Events [slide](https://web.stanford.edu/class/archive/cs/cs106a/cs106a.1194/lectures/10-Events/10-Events.pdf) [code](https://web.stanford.edu/class/archive/cs/cs106a/cs106a.1194/lectures/10-Events/Lecture10.zip)\n",
      "11. Memory [slide](https://web.stanford.edu/class/archive/cs/cs106a/cs106a.1194/lectures/11-Memory/11-Memory.pdf)\n",
      "12. Text [slide](https://web.stanford.edu/class/archive/cs/cs106a/cs106a.1194/lectures/12-TextProcessing/12-TextProcessing.pdf) [code](https://web.stanford.edu/class/archive/cs/cs106a/cs106a.1194/lectures/12-TextProcessing/Lecture12.zip)\n",
      "13. Files [slide](https://web.stanford.edu/class/archive/cs/cs106a/cs106a.1194/lectures/13-Files/13-Files.pdf) [code](https://web.stanford.edu/class/archive/cs/cs106a/cs106a.1194/lectures/13-Files/Lecture13.zip)\n",
      "14. Arrays [slide](https://web.stanford.edu/class/archive/cs/cs106a/cs106a.1194/lectures/14-Arrays/14-Arrays.pdf) [code](https://web.stanford.edu/class/archive/cs/cs106a/cs106a.1194/lectures/14-Arrays/Lecture14.zip)\n",
      "15. ArrayLists [slide](https://web.stanford.edu/class/archive/cs/cs106a/cs106a.1194/lectures/15-Lists/15-Lists.pdf) [code](https://web.stanford.edu/class/archive/cs/cs106a/cs106a.1194/lectures/15-Lists/Lecture15.zip)\n",
      "16. Matrices [slide](https://web.stanford.edu/class/archive/cs/cs106a/cs106a.1194/lectures/16-Matrix/16-Matrix.pdf) [code](https://web.stanford.edu/class/archive/cs/cs106a/cs106a.1194/lectures/16-Matrix/Lecture16.zip)\n",
      "17. HashMaps [slide](https://web.stanford.edu/class/archive/cs/cs106a/cs106a.1194/lectures/17-HashMaps/17-HashMaps.pdf) [code](https://web.stanford.edu/class/archive/cs/cs106a/cs106a.1194/lectures/17-HashMaps/Lecture17.zip)\n",
      "18. Collections [slide](https://web.stanford.edu/class/archive/cs/cs106a/cs106a.1194/lectures/18-Collections/18-Collections.pdf) [code](https://web.stanford.edu/class/archive/cs/cs106a/cs106a.1194/lectures/18-Collections/Lecture18.zip)\n",
      "19. Interactors [slide](https://web.stanford.edu/class/archive/cs/cs106a/cs106a.1194/lectures/19-Interactors/19-Interactors.pdf) [code](https://web.stanford.edu/class/archive/cs/cs106a/cs106a.1194/lectures/19-Interactors/Lecture19.zip)\n",
      "20. Variable Type Design [slide](https://web.stanford.edu/class/archive/cs/cs106a/cs106a.1194/lectures/20-Classes1/20-Classes1.pdf) [code](https://web.stanford.edu/class/archive/cs/cs106a/cs106a.1194/lectures/20-Classes1/Lecture20.zip)\n",
      "21. Classes [slide](https://web.stanford.edu/class/archive/cs/cs106a/cs106a.1194/lectures/21-Classes2/21-Classes2.pdf)\n",
      "22. Data Visualization [slide](https://web.stanford.edu/class/archive/cs/cs106a/cs106a.1194/lectures/22-Practice/22-Practice.pdf) [code](https://web.stanford.edu/class/archive/cs/cs106a/cs106a.1194/lectures/22-Practice/Lecture22.zip)\n",
      "23. The Internet [slide](https://web.stanford.edu/class/archive/cs/cs106a/cs106a.1194/lectures/23-Internet/23-Internet.pdf) [code](https://web.stanford.edu/class/archive/cs/cs106a/cs106a.1194/lectures/23-Internet/Lecture23.zip)\n",
      "24. WebApps [slide](https://web.stanford.edu/class/archive/cs/cs106a/cs106a.1194/lectures/24-SocialNetworks/24-SocialNetworks.pdf) [code](https://web.stanford.edu/class/archive/cs/cs106a/cs106a.1194/lectures/24-SocialNetworks/Lecture24.zip)\n",
      "25. Life After CS106A [slide](https://web.stanford.edu/class/archive/cs/cs106a/cs106a.1194/lectures/25-LifeAfterCS106A/25-LifeAfterCS106A.pdf) [code](https://web.stanford.edu/class/archive/cs/cs106a/cs106a.1194/lectures/25-LifeAfterCS106A/Lecture25.zip)\n",
      "26. Overview & Final Review #1 [slide](https://web.stanford.edu/class/archive/cs/cs106a/cs106a.1194/handouts/FinalReview1.pdf)\n",
      "27. Final Review #2 [slide](https://web.stanford.edu/class/archive/cs/cs106a/cs106a.1194/handouts/FinalReview2.pdf)\n"
     ]
    }
   ],
   "source": [
    "for td in tds:\n",
    "    sec = td.find(text=re.compile(r'\\d+:'))\n",
    "    if sec:\n",
    "        sec_title = sec.strip().replace(':', '.', 1)\n",
    "        slide = td.find('a', href=re.compile(r'.*pdf'))\n",
    "        code = td.find('a', href=re.compile(r'.*zip'))\n",
    "        row = sec_title\n",
    "        if slide:\n",
    "            row += ' [slide](https:' + slide['href'] + ')'\n",
    "        if code:\n",
    "            row += ' [code](https:' + code['href'] + ')'\n",
    "        print(row)\n"
   ]
  },
  {
   "cell_type": "code",
   "execution_count": null,
   "metadata": {},
   "outputs": [],
   "source": []
  }
 ],
 "metadata": {
  "kernelspec": {
   "display_name": "Python 3",
   "language": "python",
   "name": "python3"
  },
  "language_info": {
   "codemirror_mode": {
    "name": "ipython",
    "version": 3
   },
   "file_extension": ".py",
   "mimetype": "text/x-python",
   "name": "python",
   "nbconvert_exporter": "python",
   "pygments_lexer": "ipython3",
   "version": "3.6.3"
  }
 },
 "nbformat": 4,
 "nbformat_minor": 2
}
