{
 "cells": [
  {
   "cell_type": "code",
   "execution_count": 27,
   "metadata": {},
   "outputs": [],
   "source": [
    "import re\n",
    "import requests\n",
    "from bs4 import BeautifulSoup\n",
    "\n",
    "headers = {'User-Agent': 'Mozilla/5.0 (Macintosh; Intel Mac OS X 10_12_3) AppleWebKit/537.36 (KHTML, like Gecko) Chrome/56.0.2924.87 Safari/537.36'}\n",
    "base_url = 'https://web.stanford.edu/class/archive/cs/cs106a/cs106a.1194/schedule.html'\n",
    "\n",
    "res = requests.get(base_url, headers=headers)\n",
    "soup = BeautifulSoup(res.text, 'html.parser')\n",
    "tds = soup.findAll('td', {\"class\": \"calendarCell\"})\n"
   ]
  },
  {
   "cell_type": "code",
   "execution_count": null,
   "metadata": {},
   "outputs": [],
   "source": [
    "# cs106a\n",
    "for td in tds:\n",
    "    sec = td.find(text=re.compile(r'\\d+:'))\n",
    "    if sec:\n",
    "        sec_title = sec.strip().replace(':', '.', 1)\n",
    "        slide = td.find('a', href=re.compile(r'.*pdf'))\n",
    "        code = td.find('a', href=re.compile(r'.*zip'))\n",
    "        row = sec_title\n",
    "        if slide:\n",
    "            row += ' [slide](https:' + slide['href'] + ')'\n",
    "        if code:\n",
    "            row += ' [code](https:' + code['href'] + ')'\n",
    "        print(row)\n"
   ]
  },
  {
   "cell_type": "code",
   "execution_count": 34,
   "metadata": {},
   "outputs": [
    {
     "name": "stdout",
     "output_type": "stream",
     "text": [
      "1. [Welcome!](http://web.stanford.edu/class/cs106b/lectures/welcome/)\n",
      "2. [C++](http://web.stanford.edu/class/cs106b/lectures/c++/)\n",
      "3. [Strings](http://web.stanford.edu/class/cs106b/lectures/strings/)\n",
      "4. [Vectors and Grids](http://web.stanford.edu/class/cs106b/lectures/vectors-grids/)\n",
      "5. [Stacks and Queues](http://web.stanford.edu/class/cs106b/lectures/stacks-queues/)\n",
      "6. [Sets and Maps](http://web.stanford.edu/class/cs106b/lectures/sets-maps/)\n",
      "7. [Big O and Asymptotic Analysis](http://web.stanford.edu/class/cs106b/lectures/big-o/)\n",
      "8. [Introduction to Recursion](http://web.stanford.edu/class/cs106b/lectures/intro-to-recursion/)\n",
      "9. [Fractals](http://web.stanford.edu/class/cs106b/lectures/fractals/)\n",
      "10. [Procedural Recursion](http://web.stanford.edu/class/cs106b/lectures/procedural-recursion/)\n",
      "11. [Backtracking 1](http://web.stanford.edu/class/cs106b/lectures/backtracking1/)\n",
      "12. [Backtracking 2](http://web.stanford.edu/class/cs106b/lectures/backtracking2/)\n",
      "13. [C++ Classes](http://web.stanford.edu/class/cs106b/lectures/c++-classes/)\n",
      "14. [Dynamic Memory](http://web.stanford.edu/class/cs106b/lectures/dynamic-memory/)\n",
      "15. [Memory and Pointers](http://web.stanford.edu/class/cs106b/lectures/pointers/)\n",
      "16. [Implementing VectorInt](http://web.stanford.edu/class/cs106b/lectures/implementing-vector/)\n",
      "17. [Heaps](http://web.stanford.edu/class/cs106b/lectures/heaps/)\n",
      "18. [Sorting](http://web.stanford.edu/class/cs106b/lectures/sorting/)\n",
      "19. [Linked Lists 1](http://web.stanford.edu/class/cs106b/lectures/linked-lists1/)\n",
      "20. [Linked Lists 2](http://web.stanford.edu/class/cs106b/lectures/linked-lists2/)\n",
      "21. [Trees](http://web.stanford.edu/class/cs106b/lectures/trees/)\n",
      "22. [Binary Search Trees](http://web.stanford.edu/class/cs106b/lectures/binary-search-trees/)\n",
      "23. [Huffman Coding](http://web.stanford.edu/class/cs106b/lectures/huffman-coding/)\n"
     ]
    }
   ],
   "source": [
    "#cs106b\n",
    "base_url = 'http://web.stanford.edu/class/cs106b/schedule'\n",
    "\n",
    "res = requests.get(base_url, headers=headers)\n",
    "soup = BeautifulSoup(res.text, 'html.parser')\n",
    "ps = soup.findAll('p', class_='subtleHeading')\n",
    "\n",
    "i = 1\n",
    "\n",
    "for p in ps:\n",
    "    a = p.parent.a\n",
    "    if a:\n",
    "        link = 'http://web.stanford.edu' + a['href']\n",
    "        title = a.text\n",
    "        print(str(i) + '. [' + title + '](' + link + ')')\n",
    "        i += 1"
   ]
  },
  {
   "cell_type": "code",
   "execution_count": 51,
   "metadata": {},
   "outputs": [
    {
     "name": "stdout",
     "output_type": "stream",
     "text": [
      "[Assign0:WelcometoCS106B!](http://web.stanford.edu/class/cs106b/assignments/assign0/)\n",
      "[Assign1:GettingYourC++Legs](http://web.stanford.edu/class/cs106b/assignments/assign1/)\n",
      "[Assign2:FunwithCollections](http://web.stanford.edu/class/cs106b/assignments/assign2/)\n",
      "[Assign3:Recursion](http://web.stanford.edu/class/cs106b/assignments/assign3/)\n",
      "[Assign4:Backtracking](http://web.stanford.edu/class/cs106b/assignments/assign4/)\n",
      "[Assign5:PriorityQueue](http://web.stanford.edu/class/cs106b/assignments/assign5/)\n",
      "[Assign6:LinkedLists](http://web.stanford.edu/class/cs106b/assignments/assign6/)\n",
      "[Assign7:Huffman(optional)](http://web.stanford.edu/class/cs106b/assignments/assign7/)\n"
     ]
    }
   ],
   "source": [
    "assigns = soup.findAll('a', href=re.compile(r'assign\\d/$'), limit=8)\n",
    "for assign in assigns:\n",
    "    link = 'http://web.stanford.edu' + assign['href']\n",
    "    title = assign.text\n",
    "    title = re.sub(r\"\\s\", \"\", title)\n",
    "    print('[' + title + '](' + link + ')')"
   ]
  },
  {
   "cell_type": "code",
   "execution_count": 78,
   "metadata": {},
   "outputs": [
    {
     "name": "stdout",
     "output_type": "stream",
     "text": [
      "0. History and Philosophy of C++ [slide](https://web.stanford.edu/class/archive/cs/cs106l/cs106l.1184/lectures/lecture00/00_Introduction.pdf) [code](https://web.stanford.edu/class/archive/cs/cs106l/cs106l.1184/lectures/lecture00/00_HelloWorld.zip)\n",
      "1. Streams I [slide](https://web.stanford.edu/class/archive/cs/cs106l/cs106l.1184/lectures/lecture01/01_Streams.pdf) [code](https://web.stanford.edu/class/archive/cs/cs106l/cs106l.1184/lectures/lecture01/01_Streams.zip)\n",
      "2. Streams II [slide](https://web.stanford.edu/class/archive/cs/cs106l/cs106l.1184/lectures/lecture02/02_Streams_II.pdf) [code](https://web.stanford.edu/class/archive/cs/cs106l/cs106l.1184/lectures/lecture02/02_Streams_II.zip)\n",
      "3. Sequence Containers [slide](https://web.stanford.edu/class/archive/cs/cs106l/cs106l.1184/lectures/lecture03/03_Sequence_Containers.pdf) [code](https://web.stanford.edu/class/archive/cs/cs106l/cs106l.1184/lectures/lecture03/03_Sequence_Containers.zip)\n",
      "4. Associative Containers and Iterators [slide](https://web.stanford.edu/class/archive/cs/cs106l/cs106l.1184/lectures/lecture04/04_Associative_Containers.pdf) [code](https://web.stanford.edu/class/archive/cs/cs106l/cs106l.1184/lectures/lecture04/04_Associative_Containers.zip)\n",
      "5. Advanced Associative Containers [slide](https://web.stanford.edu/class/archive/cs/cs106l/cs106l.1184/lectures/lecture05/05_Adv_Assoc_Containers.pdf) [code](https://web.stanford.edu/class/archive/cs/cs106l/cs106l.1184/lectures/lecture05/05_Adv_Assoc_Containers.zip)\n",
      "6. Templates [slide](https://web.stanford.edu/class/archive/cs/cs106l/cs106l.1184/lectures/lecture06/06_Templates_and_Iterators.pdf) [code](https://web.stanford.edu/class/archive/cs/cs106l/cs106l.1184/lectures/lecture06/06_Templates_and_Iterators.zip)\n",
      "7. Algorithms [slide](https://web.stanford.edu/class/archive/cs/cs106l/cs106l.1184/lectures/lecture07/07_Algorithms.pdf) [code](https://web.stanford.edu/class/archive/cs/cs106l/cs106l.1184/lectures/lecture07/07_Algorithms.zip)\n",
      "8. Stylometry [slide](https://web.stanford.edu/class/archive/cs/cs106l/cs106l.1184/lectures/lecture08/08_Stylometry.pdf) [code](https://web.stanford.edu/class/archive/cs/cs106l/cs106l.1184/lectures/lecture08/08_Stylometry.zip)\n",
      "9. Classes [slide](https://web.stanford.edu/class/archive/cs/cs106l/cs106l.1184/lectures/lecture09/09_Classes.pdf) [code](https://web.stanford.edu/class/archive/cs/cs106l/cs106l.1184/lectures/lecture09/09_Classes.zip)\n",
      "10. Functions [slide](https://web.stanford.edu/class/archive/cs/cs106l/cs106l.1184/lectures/lecture10/10_Functions.pdf) [code](https://web.stanford.edu/class/archive/cs/cs106l/cs106l.1184/lectures/lecture10/10_Functions.zip)\n",
      "11. ParticleSimulator [slide](https://web.stanford.edu/class/archive/cs/cs106l/cs106l.1184/lectures/lecture11/11_ParticleSimulator.pdf) [code](https://web.stanford.edu/class/archive/cs/cs106l/cs106l.1184/lectures/lecture11/11_ParticleSimulator.zip)\n",
      "12. Templatised Classes [slide](https://web.stanford.edu/class/archive/cs/cs106l/cs106l.1184/lectures/lecture12/12_Templatised_Classes.pdf) [code](https://web.stanford.edu/class/archive/cs/cs106l/cs106l.1184/lectures/lecture12/12_Templatised_Classes.zip)\n",
      "13. Const Correctness [slide](https://web.stanford.edu/class/archive/cs/cs106l/cs106l.1184/lectures/lecture13/13_Const.pdf)\n",
      "14. Constructors and Assignment [slide](https://web.stanford.edu/class/archive/cs/cs106l/cs106l.1184/lectures/lecture14/14_Constructors_and_Assignment.pdf) [code](https://web.stanford.edu/class/archive/cs/cs106l/cs106l.1184/lectures/lecture14/14_Constructors_and_Assignment.zip)\n",
      "15. RAII [slide](https://web.stanford.edu/class/archive/cs/cs106l/cs106l.1184/lectures/lecture15/15_RAII.pdf) [code](https://web.stanford.edu/class/archive/cs/cs106l/cs106l.1184/lectures/lecture15/15_RAII.zip)\n",
      "16. Final Topics [slide](https://web.stanford.edu/class/archive/cs/cs106l/cs106l.1184/lectures/lecture16/16_Final_Topics.pdf) [code](https://web.stanford.edu/class/archive/cs/cs106l/cs106l.1184/lectures/lecture16/16_Final_Topics.zip)\n"
     ]
    }
   ],
   "source": [
    "#cs106l\n",
    "base_url = 'https://web.stanford.edu/class/archive/cs/cs106l/cs106l.1184/lectures.html'\n",
    "\n",
    "res = requests.get(base_url, headers=headers)\n",
    "soup = BeautifulSoup(res.text, 'html.parser')\n",
    "slides = soup.findAll('a', href=re.compile(r'^lectures.*.pdf$'))\n",
    "\n",
    "pre = 'https://web.stanford.edu/class/archive/cs/cs106l/cs106l.1184/'\n",
    "i = 0\n",
    "\n",
    "for slide in slides:\n",
    "    tr = slide.parent.parent\n",
    "    lecture = tr.find('td').a\n",
    "    if lecture:\n",
    "        title = lecture.text.strip()\n",
    "        link = pre + lecture['href']\n",
    "        code = tr.findAll('td')[2].a\n",
    "        if code:\n",
    "            code = pre + code['href']\n",
    "            print(str(i) + '. ' + title + ' [slide](' + link + ')' + ' [code](' + code + ')')\n",
    "        else:\n",
    "            print(str(i) + '. ' + title + ' [slide](' + link + ')')\n",
    "        i += 1\n",
    "            \n",
    "                      "
   ]
  },
  {
   "cell_type": "code",
   "execution_count": null,
   "metadata": {},
   "outputs": [],
   "source": []
  }
 ],
 "metadata": {
  "kernelspec": {
   "display_name": "Python 3",
   "language": "python",
   "name": "python3"
  },
  "language_info": {
   "codemirror_mode": {
    "name": "ipython",
    "version": 3
   },
   "file_extension": ".py",
   "mimetype": "text/x-python",
   "name": "python",
   "nbconvert_exporter": "python",
   "pygments_lexer": "ipython3",
   "version": "3.6.3"
  }
 },
 "nbformat": 4,
 "nbformat_minor": 2
}
